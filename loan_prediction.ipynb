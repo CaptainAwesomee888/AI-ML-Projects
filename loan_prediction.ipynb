{
 "cells": [
  {
   "cell_type": "markdown",
   "id": "ca92e56c",
   "metadata": {},
   "source": [
    "## Step 1: Data Inspection\n",
    "\n",
    "Let's load the dataset and inspect its structure."
   ]
  },
  {
   "cell_type": "markdown",
   "id": "f903fed5",
   "metadata": {},
   "source": [
    "# Loan Prediction Analysis Notebook\n",
    "\n",
    "This notebook demonstrates the end-to-end process for a loan prediction project. The steps include:\n",
    "\n",
    "1. **Data Inspection**: Load and inspect the data.\n",
    "2. **Data Cleaning & Feature Engineering**: Handle outliers, encode categorical features, and engineer new features.\n",
    "3. **Model Building & Evaluation**: Train Logistic Regression and Random Forest models, evaluate them, and plot ROC curves and confusion matrices.\n",
    "\n",
    "Let's begin!"
   ]
  },
  {
   "cell_type": "code",
   "execution_count": 2,
   "id": "e5ac5e97",
   "metadata": {},
   "outputs": [
    {
     "ename": "OSError",
     "evalue": "'seaborn' is not a valid package style, path of style file, URL of style file, or library style name (library styles are listed in `style.available`)",
     "output_type": "error",
     "traceback": [
      "\u001b[1;31m---------------------------------------------------------------------------\u001b[0m",
      "\u001b[1;31mFileNotFoundError\u001b[0m                         Traceback (most recent call last)",
      "File \u001b[1;32md:\\VS-Code\\lib\\Lib\\site-packages\\matplotlib\\style\\core.py:129\u001b[0m, in \u001b[0;36muse\u001b[1;34m(style)\u001b[0m\n\u001b[0;32m    128\u001b[0m \u001b[38;5;28;01mtry\u001b[39;00m:\n\u001b[1;32m--> 129\u001b[0m     style \u001b[38;5;241m=\u001b[39m \u001b[43m_rc_params_in_file\u001b[49m\u001b[43m(\u001b[49m\u001b[43mstyle\u001b[49m\u001b[43m)\u001b[49m\n\u001b[0;32m    130\u001b[0m \u001b[38;5;28;01mexcept\u001b[39;00m \u001b[38;5;167;01mOSError\u001b[39;00m \u001b[38;5;28;01mas\u001b[39;00m err:\n",
      "File \u001b[1;32md:\\VS-Code\\lib\\Lib\\site-packages\\matplotlib\\__init__.py:903\u001b[0m, in \u001b[0;36m_rc_params_in_file\u001b[1;34m(fname, transform, fail_on_error)\u001b[0m\n\u001b[0;32m    902\u001b[0m rc_temp \u001b[38;5;241m=\u001b[39m {}\n\u001b[1;32m--> 903\u001b[0m \u001b[38;5;28;01mwith\u001b[39;00m _open_file_or_url(fname) \u001b[38;5;28;01mas\u001b[39;00m fd:\n\u001b[0;32m    904\u001b[0m     \u001b[38;5;28;01mtry\u001b[39;00m:\n",
      "File \u001b[1;32md:\\VS-Code\\lib\\Lib\\contextlib.py:137\u001b[0m, in \u001b[0;36m_GeneratorContextManager.__enter__\u001b[1;34m(self)\u001b[0m\n\u001b[0;32m    136\u001b[0m \u001b[38;5;28;01mtry\u001b[39;00m:\n\u001b[1;32m--> 137\u001b[0m     \u001b[38;5;28;01mreturn\u001b[39;00m \u001b[38;5;28;43mnext\u001b[39;49m\u001b[43m(\u001b[49m\u001b[38;5;28;43mself\u001b[39;49m\u001b[38;5;241;43m.\u001b[39;49m\u001b[43mgen\u001b[49m\u001b[43m)\u001b[49m\n\u001b[0;32m    138\u001b[0m \u001b[38;5;28;01mexcept\u001b[39;00m \u001b[38;5;167;01mStopIteration\u001b[39;00m:\n",
      "File \u001b[1;32md:\\VS-Code\\lib\\Lib\\site-packages\\matplotlib\\__init__.py:880\u001b[0m, in \u001b[0;36m_open_file_or_url\u001b[1;34m(fname)\u001b[0m\n\u001b[0;32m    879\u001b[0m fname \u001b[38;5;241m=\u001b[39m os\u001b[38;5;241m.\u001b[39mpath\u001b[38;5;241m.\u001b[39mexpanduser(fname)\n\u001b[1;32m--> 880\u001b[0m \u001b[38;5;28;01mwith\u001b[39;00m \u001b[38;5;28;43mopen\u001b[39;49m\u001b[43m(\u001b[49m\u001b[43mfname\u001b[49m\u001b[43m,\u001b[49m\u001b[43m \u001b[49m\u001b[43mencoding\u001b[49m\u001b[38;5;241;43m=\u001b[39;49m\u001b[38;5;124;43m'\u001b[39;49m\u001b[38;5;124;43mutf-8\u001b[39;49m\u001b[38;5;124;43m'\u001b[39;49m\u001b[43m)\u001b[49m \u001b[38;5;28;01mas\u001b[39;00m f:\n\u001b[0;32m    881\u001b[0m     \u001b[38;5;28;01myield\u001b[39;00m f\n",
      "\u001b[1;31mFileNotFoundError\u001b[0m: [Errno 2] No such file or directory: 'seaborn'",
      "\nThe above exception was the direct cause of the following exception:\n",
      "\u001b[1;31mOSError\u001b[0m                                   Traceback (most recent call last)",
      "Cell \u001b[1;32mIn[2], line 12\u001b[0m\n\u001b[0;32m      9\u001b[0m \u001b[38;5;28;01mfrom\u001b[39;00m \u001b[38;5;21;01msklearn\u001b[39;00m\u001b[38;5;21;01m.\u001b[39;00m\u001b[38;5;21;01mpreprocessing\u001b[39;00m \u001b[38;5;28;01mimport\u001b[39;00m LabelEncoder, MinMaxScaler\n\u001b[0;32m     11\u001b[0m \u001b[38;5;66;03m# Set plotting style\u001b[39;00m\n\u001b[1;32m---> 12\u001b[0m \u001b[43mplt\u001b[49m\u001b[38;5;241;43m.\u001b[39;49m\u001b[43mstyle\u001b[49m\u001b[38;5;241;43m.\u001b[39;49m\u001b[43muse\u001b[49m\u001b[43m(\u001b[49m\u001b[38;5;124;43m'\u001b[39;49m\u001b[38;5;124;43mseaborn\u001b[39;49m\u001b[38;5;124;43m'\u001b[39;49m\u001b[43m)\u001b[49m\n\u001b[0;32m     14\u001b[0m \u001b[38;5;66;03m# For reproducibility\u001b[39;00m\n\u001b[0;32m     15\u001b[0m np\u001b[38;5;241m.\u001b[39mrandom\u001b[38;5;241m.\u001b[39mseed(\u001b[38;5;241m42\u001b[39m)\n",
      "File \u001b[1;32md:\\VS-Code\\lib\\Lib\\site-packages\\matplotlib\\style\\core.py:131\u001b[0m, in \u001b[0;36muse\u001b[1;34m(style)\u001b[0m\n\u001b[0;32m    129\u001b[0m         style \u001b[38;5;241m=\u001b[39m _rc_params_in_file(style)\n\u001b[0;32m    130\u001b[0m     \u001b[38;5;28;01mexcept\u001b[39;00m \u001b[38;5;167;01mOSError\u001b[39;00m \u001b[38;5;28;01mas\u001b[39;00m err:\n\u001b[1;32m--> 131\u001b[0m         \u001b[38;5;28;01mraise\u001b[39;00m \u001b[38;5;167;01mOSError\u001b[39;00m(\n\u001b[0;32m    132\u001b[0m             \u001b[38;5;124mf\u001b[39m\u001b[38;5;124m\"\u001b[39m\u001b[38;5;132;01m{\u001b[39;00mstyle\u001b[38;5;132;01m!r}\u001b[39;00m\u001b[38;5;124m is not a valid package style, path of style \u001b[39m\u001b[38;5;124m\"\u001b[39m\n\u001b[0;32m    133\u001b[0m             \u001b[38;5;124mf\u001b[39m\u001b[38;5;124m\"\u001b[39m\u001b[38;5;124mfile, URL of style file, or library style name (library \u001b[39m\u001b[38;5;124m\"\u001b[39m\n\u001b[0;32m    134\u001b[0m             \u001b[38;5;124mf\u001b[39m\u001b[38;5;124m\"\u001b[39m\u001b[38;5;124mstyles are listed in `style.available`)\u001b[39m\u001b[38;5;124m\"\u001b[39m) \u001b[38;5;28;01mfrom\u001b[39;00m \u001b[38;5;21;01merr\u001b[39;00m\n\u001b[0;32m    135\u001b[0m filtered \u001b[38;5;241m=\u001b[39m {}\n\u001b[0;32m    136\u001b[0m \u001b[38;5;28;01mfor\u001b[39;00m k \u001b[38;5;129;01min\u001b[39;00m style:  \u001b[38;5;66;03m# don't trigger RcParams.__getitem__('backend')\u001b[39;00m\n",
      "\u001b[1;31mOSError\u001b[0m: 'seaborn' is not a valid package style, path of style file, URL of style file, or library style name (library styles are listed in `style.available`)"
     ]
    }
   ],
   "source": [
    "import pandas as pd\n",
    "import numpy as np\n",
    "import seaborn\n",
    "import matplotlib.pyplot as plt\n",
    "from sklearn.model_selection import train_test_split\n",
    "from sklearn.linear_model import LogisticRegression\n",
    "from sklearn.ensemble import RandomForestClassifier\n",
    "from sklearn.metrics import classification_report, roc_auc_score, confusion_matrix\n",
    "from sklearn.metrics import RocCurveDisplay, ConfusionMatrixDisplay\n",
    "from sklearn.preprocessing import LabelEncoder, MinMaxScaler\n",
    "\n",
    "\n",
    "\n",
    "# For reproducibility\n",
    "np.random.seed(42)"
   ]
  },
  {
   "cell_type": "code",
   "execution_count": null,
   "id": "3ae1e321",
   "metadata": {},
   "outputs": [],
   "source": [
    "# Load the dataset\n",
    "df = pd.read_csv('loan_data.csv')\n",
    "\n",
    "# Basic information about the dataset\n",
    "print('Dataset Info:')\n",
    "print(df.info())\n",
    "\n",
    "# Show the first 5 rows\n",
    "print('\\nFirst 5 rows:')\n",
    "print(df.head())\n",
    "\n",
    "# Check for missing values\n",
    "print('\\nMissing values:')\n",
    "print(df.isnull().sum())\n",
    "\n",
    "# Describe numeric and categorical columns\n",
    "print('\\nNumeric Summary:')\n",
    "print(df.describe())\n",
    "\n",
    "print('\\nCategorical Summary:')\n",
    "print(df.describe(include=['O']))"
   ]
  },
  {
   "cell_type": "markdown",
   "id": "90f31b31",
   "metadata": {},
   "source": [
    "## Step 2: Data Cleaning & Feature Engineering\n",
    "\n",
    "We will now handle outliers, encode categorical variables, create a new feature (`debt_to_income`), and scale the numerical features."
   ]
  },
  {
   "cell_type": "code",
   "execution_count": null,
   "id": "a29d4eb1",
   "metadata": {},
   "outputs": [],
   "source": [
    "# Make a copy of the original dataframe\n",
    "df_cleaned = df.copy()\n",
    "\n",
    "### A. OUTLIER HANDLING\n",
    "\n",
    "# Cap person_age at 100\n",
    "df_cleaned['person_age'] = df_cleaned['person_age'].clip(upper=100)\n",
    "\n",
    "# Cap person_income at the 99th percentile to reduce the effect of extreme outliers\n",
    "income_cap = df_cleaned['person_income'].quantile(0.99)\n",
    "df_cleaned['person_income'] = df_cleaned['person_income'].clip(upper=income_cap)\n",
    "\n",
    "# Cap person_emp_exp at 50\n",
    "df_cleaned['person_emp_exp'] = df_cleaned['person_emp_exp'].clip(upper=50)\n",
    "\n",
    "### B. ENCODING CATEGORICAL VARIABLES\n",
    "\n",
    "# Label encode binary columns: person_gender and previous_loan_defaults_on_file\n",
    "label_encoders = {}\n",
    "binary_cols = ['person_gender', 'previous_loan_defaults_on_file']\n",
    "for col in binary_cols:\n",
    "    le = LabelEncoder()\n",
    "    df_cleaned[col] = le.fit_transform(df_cleaned[col])\n",
    "    label_encoders[col] = le\n",
    "\n",
    "# One-hot encode multi-category columns: person_education, person_home_ownership, loan_intent\n",
    "df_cleaned = pd.get_dummies(df_cleaned, columns=['person_education', 'person_home_ownership', 'loan_intent'], drop_first=True)\n",
    "\n",
    "### C. FEATURE ENGINEERING\n",
    "\n",
    "# Create a new feature: debt_to_income (loan amount divided by income)\n",
    "df_cleaned['debt_to_income'] = df_cleaned['loan_amnt'] / (df_cleaned['person_income'] + 1)\n",
    "\n",
    "### D. FEATURE SCALING\n",
    "\n",
    "# Scale numerical columns\n",
    "scaler = MinMaxScaler()\n",
    "num_cols = ['person_age', 'person_income', 'person_emp_exp', 'loan_amnt',\n",
    "            'loan_int_rate', 'loan_percent_income', 'cb_person_cred_hist_length',\n",
    "            'credit_score', 'debt_to_income']\n",
    "df_cleaned[num_cols] = scaler.fit_transform(df_cleaned[num_cols])\n",
    "\n",
    "print('Cleaned DataFrame shape:', df_cleaned.shape)\n",
    "print('\\nFirst 5 rows of cleaned data:')\n",
    "print(df_cleaned.head())"
   ]
  },
  {
   "cell_type": "markdown",
   "id": "4c81a4c0",
   "metadata": {},
   "source": [
    "## Step 3: Model Building & Evaluation\n",
    "\n",
    "We'll now build two models:\n",
    "\n",
    "- Logistic Regression (baseline)\n",
    "- Random Forest Classifier\n",
    "\n",
    "Then, we will evaluate the models using classification metrics and ROC-AUC score."
   ]
  },
  {
   "cell_type": "code",
   "execution_count": null,
   "id": "ddc6b0b5",
   "metadata": {},
   "outputs": [],
   "source": [
    "# Define features and target\n",
    "X = df_cleaned.drop(columns=['loan_status'])\n",
    "y = df_cleaned['loan_status']\n",
    "\n",
    "# Split the data into training and testing sets\n",
    "X_train, X_test, y_train, y_test = train_test_split(X, y, test_size=0.2, stratify=y, random_state=42)\n",
    "\n",
    "### A. Logistic Regression\n",
    "log_reg = LogisticRegression(max_iter=1000, solver='lbfgs')\n",
    "log_reg.fit(X_train, y_train)\n",
    "log_preds = log_reg.predict(X_test)\n",
    "\n",
    "### B. Random Forest Classifier\n",
    "rf = RandomForestClassifier(n_estimators=100, random_state=42)\n",
    "rf.fit(X_train, y_train)\n",
    "rf_preds = rf.predict(X_test)\n",
    "\n",
    "### C. Evaluation\n",
    "print('📊 Logistic Regression Evaluation:')\n",
    "print(classification_report(y_test, log_preds))\n",
    "print('ROC-AUC Score:', roc_auc_score(y_test, log_reg.predict_proba(X_test)[:, 1]))\n",
    "print('Confusion Matrix:\\n', confusion_matrix(y_test, log_preds))\n",
    "\n",
    "print('\\n🌲 Random Forest Evaluation:')\n",
    "print(classification_report(y_test, rf_preds))\n",
    "print('ROC-AUC Score:', roc_auc_score(y_test, rf.predict_proba(X_test)[:, 1]))\n",
    "print('Confusion Matrix:\\n', confusion_matrix(y_test, rf_preds))"
   ]
  },
  {
   "cell_type": "markdown",
   "id": "e71b3140",
   "metadata": {},
   "source": [
    "## Step 4: Plotting ROC Curves and Confusion Matrices\n",
    "\n",
    "We will now plot the ROC curves and confusion matrices for both models."
   ]
  },
  {
   "cell_type": "code",
   "execution_count": null,
   "id": "13a7b9ec",
   "metadata": {},
   "outputs": [],
   "source": [
    "# ROC Curve for Logistic Regression\n",
    "RocCurveDisplay.from_estimator(log_reg, X_test, y_test)\n",
    "plt.title('Logistic Regression ROC Curve')\n",
    "plt.grid(True)\n",
    "plt.show()\n",
    "\n",
    "# ROC Curve for Random Forest\n",
    "RocCurveDisplay.from_estimator(rf, X_test, y_test)\n",
    "plt.title('Random Forest ROC Curve')\n",
    "plt.grid(True)\n",
    "plt.show()\n",
    "\n",
    "# Confusion Matrix for Logistic Regression\n",
    "ConfusionMatrixDisplay.from_estimator(log_reg, X_test, y_test, display_labels=['Rejected', 'Approved'])\n",
    "plt.title('Logistic Regression Confusion Matrix')\n",
    "plt.show()\n",
    "\n",
    "# Confusion Matrix for Random Forest\n",
    "ConfusionMatrixDisplay.from_estimator(rf, X_test, y_test, display_labels=['Rejected', 'Approved'])\n",
    "plt.title('Random Forest Confusion Matrix')\n",
    "plt.show()"
   ]
  },
  {
   "cell_type": "markdown",
   "id": "ea5d1fbc",
   "metadata": {},
   "source": [
    "## Step 5: (Optional) Save Trained Models\n",
    "\n",
    "You can save the trained models for later use using `joblib`."
   ]
  },
  {
   "cell_type": "code",
   "execution_count": null,
   "id": "2f9c1924",
   "metadata": {},
   "outputs": [],
   "source": [
    "import joblib\n",
    "\n",
    "# Save models\n",
    "joblib.dump(log_reg, 'logistic_model.pkl')\n",
    "joblib.dump(rf, 'random_forest_model.pkl')\n",
    "print('Models saved successfully!')"
   ]
  }
 ],
 "metadata": {
  "kernelspec": {
   "display_name": "Python [conda env:lib-2]",
   "language": "python",
   "name": "conda-env-lib-2-py"
  },
  "language_info": {
   "codemirror_mode": {
    "name": "ipython",
    "version": 3
   },
   "file_extension": ".py",
   "mimetype": "text/x-python",
   "name": "python",
   "nbconvert_exporter": "python",
   "pygments_lexer": "ipython3",
   "version": "3.12.9"
  }
 },
 "nbformat": 4,
 "nbformat_minor": 5
}
